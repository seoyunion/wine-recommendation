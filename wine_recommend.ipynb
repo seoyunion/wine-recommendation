{
  "nbformat": 4,
  "nbformat_minor": 0,
  "metadata": {
    "colab": {
      "name": "wine_recommend",
      "provenance": []
    },
    "kernelspec": {
      "name": "python3",
      "display_name": "Python 3"
    },
    "language_info": {
      "name": "python"
    }
  },
  "cells": [
    {
      "cell_type": "code",
      "metadata": {
        "colab": {
          "base_uri": "https://localhost:8080/"
        },
        "id": "YNjGdLMWWTel",
        "outputId": "978cab6b-c686-474e-92bf-652dc27fdbb6"
      },
      "source": [
        "from google.colab import drive\n",
        "drive.mount('/content/gdrive/')"
      ],
      "execution_count": 1,
      "outputs": [
        {
          "output_type": "stream",
          "name": "stdout",
          "text": [
            "Mounted at /content/gdrive/\n"
          ]
        }
      ]
    },
    {
      "cell_type": "code",
      "metadata": {
        "id": "hF5YPIanWYrV"
      },
      "source": [
        "import os\n",
        "os.chdir('/content/gdrive/My Drive/파이썬 부캠/archive')"
      ],
      "execution_count": 2,
      "outputs": []
    },
    {
      "cell_type": "code",
      "metadata": {
        "id": "6WAU6NMQMpTz"
      },
      "source": [
        "import warnings\n",
        "warnings.filterwarnings('ignore')\n",
        "import numpy as np\n",
        "import pandas as pd \n",
        "import matplotlib.pyplot as plt\n",
        "import seaborn as sns"
      ],
      "execution_count": 3,
      "outputs": []
    },
    {
      "cell_type": "markdown",
      "metadata": {
        "id": "cMwCDwXdLdxf"
      },
      "source": [
        "# 1) Data preparation"
      ]
    },
    {
      "cell_type": "code",
      "metadata": {
        "colab": {
          "base_uri": "https://localhost:8080/",
          "height": 722
        },
        "id": "7tYUuWqxWjJb",
        "outputId": "9a37cee6-ea02-47a5-befc-f121aaf78c0e"
      },
      "source": [
        "# 데이터셋 준비 / 와인 종류 컬럼 추가\n",
        "red = pd.read_csv(\"Red.csv\"); red['Type'] = 'Red'\n",
        "rose = pd.read_csv(\"Rose.csv\"); rose['Type'] = 'Rose'\n",
        "white = pd.read_csv(\"White.csv\"); white['Type'] = 'White'\n",
        "spark = pd.read_csv(\"Sparkling.csv\"); spark['Type'] = 'Sparkling'\n",
        "\n",
        "# 모든 종류의 와인을 하나의 데이터셋 'wines'으로 합침\n",
        "wines = pd.concat([red,rose,white,spark], axis=0, ignore_index=True)\n",
        "wines"
      ],
      "execution_count": 4,
      "outputs": [
        {
          "output_type": "execute_result",
          "data": {
            "text/html": [
              "<div>\n",
              "<style scoped>\n",
              "    .dataframe tbody tr th:only-of-type {\n",
              "        vertical-align: middle;\n",
              "    }\n",
              "\n",
              "    .dataframe tbody tr th {\n",
              "        vertical-align: top;\n",
              "    }\n",
              "\n",
              "    .dataframe thead th {\n",
              "        text-align: right;\n",
              "    }\n",
              "</style>\n",
              "<table border=\"1\" class=\"dataframe\">\n",
              "  <thead>\n",
              "    <tr style=\"text-align: right;\">\n",
              "      <th></th>\n",
              "      <th>Name</th>\n",
              "      <th>Country</th>\n",
              "      <th>Region</th>\n",
              "      <th>Winery</th>\n",
              "      <th>Rating</th>\n",
              "      <th>NumberOfRatings</th>\n",
              "      <th>Price</th>\n",
              "      <th>Year</th>\n",
              "      <th>Type</th>\n",
              "    </tr>\n",
              "  </thead>\n",
              "  <tbody>\n",
              "    <tr>\n",
              "      <th>0</th>\n",
              "      <td>Pomerol 2011</td>\n",
              "      <td>France</td>\n",
              "      <td>Pomerol</td>\n",
              "      <td>Château La Providence</td>\n",
              "      <td>4.2</td>\n",
              "      <td>100</td>\n",
              "      <td>95.00</td>\n",
              "      <td>2011</td>\n",
              "      <td>Red</td>\n",
              "    </tr>\n",
              "    <tr>\n",
              "      <th>1</th>\n",
              "      <td>Lirac 2017</td>\n",
              "      <td>France</td>\n",
              "      <td>Lirac</td>\n",
              "      <td>Château Mont-Redon</td>\n",
              "      <td>4.3</td>\n",
              "      <td>100</td>\n",
              "      <td>15.50</td>\n",
              "      <td>2017</td>\n",
              "      <td>Red</td>\n",
              "    </tr>\n",
              "    <tr>\n",
              "      <th>2</th>\n",
              "      <td>Erta e China Rosso di Toscana 2015</td>\n",
              "      <td>Italy</td>\n",
              "      <td>Toscana</td>\n",
              "      <td>Renzo Masi</td>\n",
              "      <td>3.9</td>\n",
              "      <td>100</td>\n",
              "      <td>7.45</td>\n",
              "      <td>2015</td>\n",
              "      <td>Red</td>\n",
              "    </tr>\n",
              "    <tr>\n",
              "      <th>3</th>\n",
              "      <td>Bardolino 2019</td>\n",
              "      <td>Italy</td>\n",
              "      <td>Bardolino</td>\n",
              "      <td>Cavalchina</td>\n",
              "      <td>3.5</td>\n",
              "      <td>100</td>\n",
              "      <td>8.72</td>\n",
              "      <td>2019</td>\n",
              "      <td>Red</td>\n",
              "    </tr>\n",
              "    <tr>\n",
              "      <th>4</th>\n",
              "      <td>Ried Scheibner Pinot Noir 2016</td>\n",
              "      <td>Austria</td>\n",
              "      <td>Carnuntum</td>\n",
              "      <td>Markowitsch</td>\n",
              "      <td>3.9</td>\n",
              "      <td>100</td>\n",
              "      <td>29.15</td>\n",
              "      <td>2016</td>\n",
              "      <td>Red</td>\n",
              "    </tr>\n",
              "    <tr>\n",
              "      <th>...</th>\n",
              "      <td>...</td>\n",
              "      <td>...</td>\n",
              "      <td>...</td>\n",
              "      <td>...</td>\n",
              "      <td>...</td>\n",
              "      <td>...</td>\n",
              "      <td>...</td>\n",
              "      <td>...</td>\n",
              "      <td>...</td>\n",
              "    </tr>\n",
              "    <tr>\n",
              "      <th>13829</th>\n",
              "      <td>Special Cuvée Brut Aÿ Champagne N.V.</td>\n",
              "      <td>France</td>\n",
              "      <td>Champagne</td>\n",
              "      <td>Bollinger</td>\n",
              "      <td>4.2</td>\n",
              "      <td>37765</td>\n",
              "      <td>46.00</td>\n",
              "      <td>N.V.</td>\n",
              "      <td>Sparkling</td>\n",
              "    </tr>\n",
              "    <tr>\n",
              "      <th>13830</th>\n",
              "      <td>Brut Premier Champagne N.V.</td>\n",
              "      <td>France</td>\n",
              "      <td>Champagne Premier Cru</td>\n",
              "      <td>Louis Roederer</td>\n",
              "      <td>4.2</td>\n",
              "      <td>40004</td>\n",
              "      <td>36.48</td>\n",
              "      <td>N.V.</td>\n",
              "      <td>Sparkling</td>\n",
              "    </tr>\n",
              "    <tr>\n",
              "      <th>13831</th>\n",
              "      <td>Impérial Brut Champagne N.V.</td>\n",
              "      <td>France</td>\n",
              "      <td>Champagne</td>\n",
              "      <td>Moët &amp; Chandon</td>\n",
              "      <td>4.1</td>\n",
              "      <td>76037</td>\n",
              "      <td>40.61</td>\n",
              "      <td>N.V.</td>\n",
              "      <td>Sparkling</td>\n",
              "    </tr>\n",
              "    <tr>\n",
              "      <th>13832</th>\n",
              "      <td>Brut (Carte Jaune) Champagne N.V.</td>\n",
              "      <td>France</td>\n",
              "      <td>Champagne</td>\n",
              "      <td>Veuve Clicquot</td>\n",
              "      <td>4.2</td>\n",
              "      <td>86839</td>\n",
              "      <td>43.60</td>\n",
              "      <td>N.V.</td>\n",
              "      <td>Sparkling</td>\n",
              "    </tr>\n",
              "    <tr>\n",
              "      <th>13833</th>\n",
              "      <td>Brut Champagne N.V.</td>\n",
              "      <td>France</td>\n",
              "      <td>Champagne</td>\n",
              "      <td>Dom Pérignon</td>\n",
              "      <td>4.6</td>\n",
              "      <td>94287</td>\n",
              "      <td>170.00</td>\n",
              "      <td>N.V.</td>\n",
              "      <td>Sparkling</td>\n",
              "    </tr>\n",
              "  </tbody>\n",
              "</table>\n",
              "<p>13834 rows × 9 columns</p>\n",
              "</div>"
            ],
            "text/plain": [
              "                                       Name  Country  ...  Year       Type\n",
              "0                              Pomerol 2011   France  ...  2011        Red\n",
              "1                                Lirac 2017   France  ...  2017        Red\n",
              "2        Erta e China Rosso di Toscana 2015    Italy  ...  2015        Red\n",
              "3                            Bardolino 2019    Italy  ...  2019        Red\n",
              "4            Ried Scheibner Pinot Noir 2016  Austria  ...  2016        Red\n",
              "...                                     ...      ...  ...   ...        ...\n",
              "13829  Special Cuvée Brut Aÿ Champagne N.V.   France  ...  N.V.  Sparkling\n",
              "13830           Brut Premier Champagne N.V.   France  ...  N.V.  Sparkling\n",
              "13831          Impérial Brut Champagne N.V.   France  ...  N.V.  Sparkling\n",
              "13832     Brut (Carte Jaune) Champagne N.V.   France  ...  N.V.  Sparkling\n",
              "13833                   Brut Champagne N.V.   France  ...  N.V.  Sparkling\n",
              "\n",
              "[13834 rows x 9 columns]"
            ]
          },
          "metadata": {},
          "execution_count": 4
        }
      ]
    },
    {
      "cell_type": "code",
      "metadata": {
        "colab": {
          "base_uri": "https://localhost:8080/"
        },
        "id": "EqMdxz1Tq2k0",
        "outputId": "f435a982-c832-44ab-ad07-4a588ba972f1"
      },
      "source": [
        "print(len(red))\n",
        "print(len(white))\n",
        "print(len(spark))\n",
        "print(len(rose))\n"
      ],
      "execution_count": 5,
      "outputs": [
        {
          "output_type": "stream",
          "name": "stdout",
          "text": [
            "8666\n",
            "3764\n",
            "1007\n",
            "397\n"
          ]
        }
      ]
    },
    {
      "cell_type": "code",
      "metadata": {
        "colab": {
          "base_uri": "https://localhost:8080/"
        },
        "id": "klleQo8HuBd9",
        "outputId": "514f9da9-caaa-42ea-823e-e3e50dbfcf95"
      },
      "source": [
        "print(red['Rating'].mean())\n",
        "print(white['Rating'].mean())\n",
        "print(spark['Rating'].mean())\n",
        "print(rose['Rating'].mean())"
      ],
      "execution_count": 6,
      "outputs": [
        {
          "output_type": "stream",
          "name": "stdout",
          "text": [
            "3.890341564735726\n",
            "3.817906482465455\n",
            "3.8808341608738792\n",
            "3.741309823677579\n"
          ]
        }
      ]
    },
    {
      "cell_type": "code",
      "metadata": {
        "colab": {
          "base_uri": "https://localhost:8080/"
        },
        "id": "BU3bZJdstHIr",
        "outputId": "fbc2e902-bd67-4825-99b9-56df6a524d4f"
      },
      "source": [
        "print(red['Price'].mean())\n",
        "print(white['Price'].mean())\n",
        "print(spark['Price'].mean())\n",
        "print(rose['Price'].mean())\n",
        "\n"
      ],
      "execution_count": 7,
      "outputs": [
        {
          "output_type": "stream",
          "name": "stdout",
          "text": [
            "39.145064620356315\n",
            "20.62031880977665\n",
            "34.80342601787506\n",
            "12.525743073047838\n"
          ]
        }
      ]
    },
    {
      "cell_type": "code",
      "metadata": {
        "colab": {
          "base_uri": "https://localhost:8080/",
          "height": 322
        },
        "id": "7MXdjjZEIlha",
        "outputId": "be1654b3-1b18-4ceb-ae7c-d2760cfa7da6"
      },
      "source": [
        "spark.head() # 제조 년도 항목에 결측치가 있음을 확인"
      ],
      "execution_count": 8,
      "outputs": [
        {
          "output_type": "execute_result",
          "data": {
            "text/html": [
              "<div>\n",
              "<style scoped>\n",
              "    .dataframe tbody tr th:only-of-type {\n",
              "        vertical-align: middle;\n",
              "    }\n",
              "\n",
              "    .dataframe tbody tr th {\n",
              "        vertical-align: top;\n",
              "    }\n",
              "\n",
              "    .dataframe thead th {\n",
              "        text-align: right;\n",
              "    }\n",
              "</style>\n",
              "<table border=\"1\" class=\"dataframe\">\n",
              "  <thead>\n",
              "    <tr style=\"text-align: right;\">\n",
              "      <th></th>\n",
              "      <th>Name</th>\n",
              "      <th>Country</th>\n",
              "      <th>Region</th>\n",
              "      <th>Winery</th>\n",
              "      <th>Rating</th>\n",
              "      <th>NumberOfRatings</th>\n",
              "      <th>Price</th>\n",
              "      <th>Year</th>\n",
              "      <th>Type</th>\n",
              "    </tr>\n",
              "  </thead>\n",
              "  <tbody>\n",
              "    <tr>\n",
              "      <th>0</th>\n",
              "      <td>Crémant de Loire Brut 2017</td>\n",
              "      <td>France</td>\n",
              "      <td>Crémant de Loire</td>\n",
              "      <td>Langlois-Chateau</td>\n",
              "      <td>3.9</td>\n",
              "      <td>25</td>\n",
              "      <td>14.41</td>\n",
              "      <td>2017</td>\n",
              "      <td>Sparkling</td>\n",
              "    </tr>\n",
              "    <tr>\n",
              "      <th>1</th>\n",
              "      <td>Vicar's Choice Sauvignon Blanc Bubbles 2019</td>\n",
              "      <td>New Zealand</td>\n",
              "      <td>Marlborough</td>\n",
              "      <td>Saint Clair</td>\n",
              "      <td>4.2</td>\n",
              "      <td>25</td>\n",
              "      <td>11.90</td>\n",
              "      <td>2019</td>\n",
              "      <td>Sparkling</td>\n",
              "    </tr>\n",
              "    <tr>\n",
              "      <th>2</th>\n",
              "      <td>Crémant de Limoux Brut N.V.</td>\n",
              "      <td>France</td>\n",
              "      <td>Crémant de Limoux</td>\n",
              "      <td>Prima Perla</td>\n",
              "      <td>3.5</td>\n",
              "      <td>25</td>\n",
              "      <td>14.32</td>\n",
              "      <td>N.V.</td>\n",
              "      <td>Sparkling</td>\n",
              "    </tr>\n",
              "    <tr>\n",
              "      <th>3</th>\n",
              "      <td>Athesis Brut 2016</td>\n",
              "      <td>Italy</td>\n",
              "      <td>Südtirol - Alto Adige</td>\n",
              "      <td>Kettmeir</td>\n",
              "      <td>4.0</td>\n",
              "      <td>25</td>\n",
              "      <td>21.50</td>\n",
              "      <td>2016</td>\n",
              "      <td>Sparkling</td>\n",
              "    </tr>\n",
              "    <tr>\n",
              "      <th>4</th>\n",
              "      <td>Blanc de Blancs Réserve Brut Nature N.V.</td>\n",
              "      <td>Germany</td>\n",
              "      <td>Pfalz</td>\n",
              "      <td>Eymann</td>\n",
              "      <td>3.9</td>\n",
              "      <td>25</td>\n",
              "      <td>31.18</td>\n",
              "      <td>N.V.</td>\n",
              "      <td>Sparkling</td>\n",
              "    </tr>\n",
              "  </tbody>\n",
              "</table>\n",
              "</div>"
            ],
            "text/plain": [
              "                                          Name      Country  ...  Year       Type\n",
              "0                   Crémant de Loire Brut 2017       France  ...  2017  Sparkling\n",
              "1  Vicar's Choice Sauvignon Blanc Bubbles 2019  New Zealand  ...  2019  Sparkling\n",
              "2                  Crémant de Limoux Brut N.V.       France  ...  N.V.  Sparkling\n",
              "3                            Athesis Brut 2016        Italy  ...  2016  Sparkling\n",
              "4     Blanc de Blancs Réserve Brut Nature N.V.      Germany  ...  N.V.  Sparkling\n",
              "\n",
              "[5 rows x 9 columns]"
            ]
          },
          "metadata": {},
          "execution_count": 8
        }
      ]
    },
    {
      "cell_type": "code",
      "metadata": {
        "colab": {
          "base_uri": "https://localhost:8080/",
          "height": 493
        },
        "id": "2YgQDxcrIL5B",
        "outputId": "b8a2dc88-7fc5-4cc8-99ff-c4afeec90a64"
      },
      "source": [
        "wines[:10]"
      ],
      "execution_count": 9,
      "outputs": [
        {
          "output_type": "execute_result",
          "data": {
            "text/html": [
              "<div>\n",
              "<style scoped>\n",
              "    .dataframe tbody tr th:only-of-type {\n",
              "        vertical-align: middle;\n",
              "    }\n",
              "\n",
              "    .dataframe tbody tr th {\n",
              "        vertical-align: top;\n",
              "    }\n",
              "\n",
              "    .dataframe thead th {\n",
              "        text-align: right;\n",
              "    }\n",
              "</style>\n",
              "<table border=\"1\" class=\"dataframe\">\n",
              "  <thead>\n",
              "    <tr style=\"text-align: right;\">\n",
              "      <th></th>\n",
              "      <th>Name</th>\n",
              "      <th>Country</th>\n",
              "      <th>Region</th>\n",
              "      <th>Winery</th>\n",
              "      <th>Rating</th>\n",
              "      <th>NumberOfRatings</th>\n",
              "      <th>Price</th>\n",
              "      <th>Year</th>\n",
              "      <th>Type</th>\n",
              "    </tr>\n",
              "  </thead>\n",
              "  <tbody>\n",
              "    <tr>\n",
              "      <th>0</th>\n",
              "      <td>Pomerol 2011</td>\n",
              "      <td>France</td>\n",
              "      <td>Pomerol</td>\n",
              "      <td>Château La Providence</td>\n",
              "      <td>4.2</td>\n",
              "      <td>100</td>\n",
              "      <td>95.00</td>\n",
              "      <td>2011</td>\n",
              "      <td>Red</td>\n",
              "    </tr>\n",
              "    <tr>\n",
              "      <th>1</th>\n",
              "      <td>Lirac 2017</td>\n",
              "      <td>France</td>\n",
              "      <td>Lirac</td>\n",
              "      <td>Château Mont-Redon</td>\n",
              "      <td>4.3</td>\n",
              "      <td>100</td>\n",
              "      <td>15.50</td>\n",
              "      <td>2017</td>\n",
              "      <td>Red</td>\n",
              "    </tr>\n",
              "    <tr>\n",
              "      <th>2</th>\n",
              "      <td>Erta e China Rosso di Toscana 2015</td>\n",
              "      <td>Italy</td>\n",
              "      <td>Toscana</td>\n",
              "      <td>Renzo Masi</td>\n",
              "      <td>3.9</td>\n",
              "      <td>100</td>\n",
              "      <td>7.45</td>\n",
              "      <td>2015</td>\n",
              "      <td>Red</td>\n",
              "    </tr>\n",
              "    <tr>\n",
              "      <th>3</th>\n",
              "      <td>Bardolino 2019</td>\n",
              "      <td>Italy</td>\n",
              "      <td>Bardolino</td>\n",
              "      <td>Cavalchina</td>\n",
              "      <td>3.5</td>\n",
              "      <td>100</td>\n",
              "      <td>8.72</td>\n",
              "      <td>2019</td>\n",
              "      <td>Red</td>\n",
              "    </tr>\n",
              "    <tr>\n",
              "      <th>4</th>\n",
              "      <td>Ried Scheibner Pinot Noir 2016</td>\n",
              "      <td>Austria</td>\n",
              "      <td>Carnuntum</td>\n",
              "      <td>Markowitsch</td>\n",
              "      <td>3.9</td>\n",
              "      <td>100</td>\n",
              "      <td>29.15</td>\n",
              "      <td>2016</td>\n",
              "      <td>Red</td>\n",
              "    </tr>\n",
              "    <tr>\n",
              "      <th>5</th>\n",
              "      <td>Gigondas (Nobles Terrasses) 2017</td>\n",
              "      <td>France</td>\n",
              "      <td>Gigondas</td>\n",
              "      <td>Vieux Clocher</td>\n",
              "      <td>3.7</td>\n",
              "      <td>100</td>\n",
              "      <td>19.90</td>\n",
              "      <td>2017</td>\n",
              "      <td>Red</td>\n",
              "    </tr>\n",
              "    <tr>\n",
              "      <th>6</th>\n",
              "      <td>Marion's Vineyard Pinot Noir 2016</td>\n",
              "      <td>New Zealand</td>\n",
              "      <td>Wairarapa</td>\n",
              "      <td>Schubert</td>\n",
              "      <td>4.0</td>\n",
              "      <td>100</td>\n",
              "      <td>43.87</td>\n",
              "      <td>2016</td>\n",
              "      <td>Red</td>\n",
              "    </tr>\n",
              "    <tr>\n",
              "      <th>7</th>\n",
              "      <td>Red Blend 2014</td>\n",
              "      <td>Chile</td>\n",
              "      <td>Itata Valley</td>\n",
              "      <td>Viña La Causa</td>\n",
              "      <td>3.9</td>\n",
              "      <td>100</td>\n",
              "      <td>17.52</td>\n",
              "      <td>2014</td>\n",
              "      <td>Red</td>\n",
              "    </tr>\n",
              "    <tr>\n",
              "      <th>8</th>\n",
              "      <td>Chianti 2015</td>\n",
              "      <td>Italy</td>\n",
              "      <td>Chianti</td>\n",
              "      <td>Castello Montaùto</td>\n",
              "      <td>3.6</td>\n",
              "      <td>100</td>\n",
              "      <td>10.75</td>\n",
              "      <td>2015</td>\n",
              "      <td>Red</td>\n",
              "    </tr>\n",
              "    <tr>\n",
              "      <th>9</th>\n",
              "      <td>Tradition 2014</td>\n",
              "      <td>France</td>\n",
              "      <td>Minervois</td>\n",
              "      <td>Domaine des Aires Hautes</td>\n",
              "      <td>3.5</td>\n",
              "      <td>100</td>\n",
              "      <td>6.90</td>\n",
              "      <td>2014</td>\n",
              "      <td>Red</td>\n",
              "    </tr>\n",
              "  </tbody>\n",
              "</table>\n",
              "</div>"
            ],
            "text/plain": [
              "                                 Name      Country  ...  Year Type\n",
              "0                        Pomerol 2011       France  ...  2011  Red\n",
              "1                          Lirac 2017       France  ...  2017  Red\n",
              "2  Erta e China Rosso di Toscana 2015        Italy  ...  2015  Red\n",
              "3                      Bardolino 2019        Italy  ...  2019  Red\n",
              "4      Ried Scheibner Pinot Noir 2016      Austria  ...  2016  Red\n",
              "5    Gigondas (Nobles Terrasses) 2017       France  ...  2017  Red\n",
              "6   Marion's Vineyard Pinot Noir 2016  New Zealand  ...  2016  Red\n",
              "7                      Red Blend 2014        Chile  ...  2014  Red\n",
              "8                        Chianti 2015        Italy  ...  2015  Red\n",
              "9                      Tradition 2014       France  ...  2014  Red\n",
              "\n",
              "[10 rows x 9 columns]"
            ]
          },
          "metadata": {},
          "execution_count": 9
        }
      ]
    },
    {
      "cell_type": "code",
      "metadata": {
        "colab": {
          "base_uri": "https://localhost:8080/"
        },
        "id": "emShn7ndWrZY",
        "outputId": "8ac9f0e7-6358-4f95-e733-ffeae386c632"
      },
      "source": [
        "wines.info()"
      ],
      "execution_count": 10,
      "outputs": [
        {
          "output_type": "stream",
          "name": "stdout",
          "text": [
            "<class 'pandas.core.frame.DataFrame'>\n",
            "RangeIndex: 13834 entries, 0 to 13833\n",
            "Data columns (total 9 columns):\n",
            " #   Column           Non-Null Count  Dtype  \n",
            "---  ------           --------------  -----  \n",
            " 0   Name             13834 non-null  object \n",
            " 1   Country          13834 non-null  object \n",
            " 2   Region           13834 non-null  object \n",
            " 3   Winery           13834 non-null  object \n",
            " 4   Rating           13834 non-null  float64\n",
            " 5   NumberOfRatings  13834 non-null  int64  \n",
            " 6   Price            13834 non-null  float64\n",
            " 7   Year             13834 non-null  object \n",
            " 8   Type             13834 non-null  object \n",
            "dtypes: float64(2), int64(1), object(6)\n",
            "memory usage: 972.8+ KB\n"
          ]
        }
      ]
    },
    {
      "cell_type": "code",
      "metadata": {
        "colab": {
          "base_uri": "https://localhost:8080/"
        },
        "id": "UTXVTvycKrzd",
        "outputId": "6f41ed9a-837e-442b-8872-2b2071ae47a2"
      },
      "source": [
        "wines['Year'].value_counts() #N.Y. 라는 값 존재 -> 숫자 값으로 대체"
      ],
      "execution_count": 11,
      "outputs": [
        {
          "output_type": "execute_result",
          "data": {
            "text/plain": [
              "2018    2723\n",
              "2017    2412\n",
              "2016    2294\n",
              "2015    1678\n",
              "2014     905\n",
              "2019     893\n",
              "N.V.     744\n",
              "2013     624\n",
              "2012     423\n",
              "2011     312\n",
              "2010     192\n",
              "2005     160\n",
              "2008     101\n",
              "2009      99\n",
              "2006      64\n",
              "2007      60\n",
              "2004      34\n",
              "2000      19\n",
              "1999      19\n",
              "2003      15\n",
              "2001      12\n",
              "2002      11\n",
              "1997       7\n",
              "1998       7\n",
              "1996       6\n",
              "1995       4\n",
              "1961       3\n",
              "1992       3\n",
              "1990       2\n",
              "1989       2\n",
              "1993       2\n",
              "2020       2\n",
              "1991       1\n",
              "1988       1\n",
              "Name: Year, dtype: int64"
            ]
          },
          "metadata": {},
          "execution_count": 11
        }
      ]
    },
    {
      "cell_type": "code",
      "metadata": {
        "id": "9qLe2t4FKadM"
      },
      "source": [
        "wines['Year'] = wines['Year'].replace('N.V.', 2030) #다른 연도와 겹치지 않도록 2030으로 대체\n",
        "wines['Year'] = wines['Year'].astype('int')"
      ],
      "execution_count": 12,
      "outputs": []
    },
    {
      "cell_type": "code",
      "metadata": {
        "colab": {
          "base_uri": "https://localhost:8080/"
        },
        "id": "xGilo_NgPyVt",
        "outputId": "4951a5de-6a69-48fd-cbca-ffd64b5d4045"
      },
      "source": [
        "# 유로로 표현된 가격을 만원 단위로 변환(1유로 환율: 1350)\n",
        "wines['Price(\\)'] = round((wines['Price']*1350)/10000,2)\n",
        "wines['Price(\\)'] = wines['Price(\\)']\n",
        "wines['Price(\\)']"
      ],
      "execution_count": 13,
      "outputs": [
        {
          "output_type": "execute_result",
          "data": {
            "text/plain": [
              "0        12.82\n",
              "1         2.09\n",
              "2         1.01\n",
              "3         1.18\n",
              "4         3.94\n",
              "         ...  \n",
              "13829     6.21\n",
              "13830     4.92\n",
              "13831     5.48\n",
              "13832     5.89\n",
              "13833    22.95\n",
              "Name: Price(\\), Length: 13834, dtype: float64"
            ]
          },
          "metadata": {},
          "execution_count": 13
        }
      ]
    },
    {
      "cell_type": "code",
      "metadata": {
        "colab": {
          "base_uri": "https://localhost:8080/"
        },
        "id": "I7W9sbIxCAnB",
        "outputId": "27289d8b-a67d-4ae3-bfa8-691a3bb9dc81"
      },
      "source": [
        "wines.info()"
      ],
      "execution_count": 14,
      "outputs": [
        {
          "output_type": "stream",
          "name": "stdout",
          "text": [
            "<class 'pandas.core.frame.DataFrame'>\n",
            "RangeIndex: 13834 entries, 0 to 13833\n",
            "Data columns (total 10 columns):\n",
            " #   Column           Non-Null Count  Dtype  \n",
            "---  ------           --------------  -----  \n",
            " 0   Name             13834 non-null  object \n",
            " 1   Country          13834 non-null  object \n",
            " 2   Region           13834 non-null  object \n",
            " 3   Winery           13834 non-null  object \n",
            " 4   Rating           13834 non-null  float64\n",
            " 5   NumberOfRatings  13834 non-null  int64  \n",
            " 6   Price            13834 non-null  float64\n",
            " 7   Year             13834 non-null  int64  \n",
            " 8   Type             13834 non-null  object \n",
            " 9   Price(\\)         13834 non-null  float64\n",
            "dtypes: float64(3), int64(2), object(5)\n",
            "memory usage: 1.1+ MB\n"
          ]
        }
      ]
    },
    {
      "cell_type": "code",
      "metadata": {
        "colab": {
          "base_uri": "https://localhost:8080/"
        },
        "id": "WZ-GpBlDCSUG",
        "outputId": "661920c8-cd5e-4715-cac6-adfd41f7e26a"
      },
      "source": [
        "len(wines)"
      ],
      "execution_count": 15,
      "outputs": [
        {
          "output_type": "execute_result",
          "data": {
            "text/plain": [
              "13834"
            ]
          },
          "metadata": {},
          "execution_count": 15
        }
      ]
    },
    {
      "cell_type": "code",
      "metadata": {
        "colab": {
          "base_uri": "https://localhost:8080/",
          "height": 860
        },
        "id": "HSYFN_JNIIA9",
        "outputId": "7e214326-4d9a-457d-d9ab-e111cca45077"
      },
      "source": [
        "wines"
      ],
      "execution_count": 16,
      "outputs": [
        {
          "output_type": "execute_result",
          "data": {
            "text/html": [
              "<div>\n",
              "<style scoped>\n",
              "    .dataframe tbody tr th:only-of-type {\n",
              "        vertical-align: middle;\n",
              "    }\n",
              "\n",
              "    .dataframe tbody tr th {\n",
              "        vertical-align: top;\n",
              "    }\n",
              "\n",
              "    .dataframe thead th {\n",
              "        text-align: right;\n",
              "    }\n",
              "</style>\n",
              "<table border=\"1\" class=\"dataframe\">\n",
              "  <thead>\n",
              "    <tr style=\"text-align: right;\">\n",
              "      <th></th>\n",
              "      <th>Name</th>\n",
              "      <th>Country</th>\n",
              "      <th>Region</th>\n",
              "      <th>Winery</th>\n",
              "      <th>Rating</th>\n",
              "      <th>NumberOfRatings</th>\n",
              "      <th>Price</th>\n",
              "      <th>Year</th>\n",
              "      <th>Type</th>\n",
              "      <th>Price(\\)</th>\n",
              "    </tr>\n",
              "  </thead>\n",
              "  <tbody>\n",
              "    <tr>\n",
              "      <th>0</th>\n",
              "      <td>Pomerol 2011</td>\n",
              "      <td>France</td>\n",
              "      <td>Pomerol</td>\n",
              "      <td>Château La Providence</td>\n",
              "      <td>4.2</td>\n",
              "      <td>100</td>\n",
              "      <td>95.00</td>\n",
              "      <td>2011</td>\n",
              "      <td>Red</td>\n",
              "      <td>12.82</td>\n",
              "    </tr>\n",
              "    <tr>\n",
              "      <th>1</th>\n",
              "      <td>Lirac 2017</td>\n",
              "      <td>France</td>\n",
              "      <td>Lirac</td>\n",
              "      <td>Château Mont-Redon</td>\n",
              "      <td>4.3</td>\n",
              "      <td>100</td>\n",
              "      <td>15.50</td>\n",
              "      <td>2017</td>\n",
              "      <td>Red</td>\n",
              "      <td>2.09</td>\n",
              "    </tr>\n",
              "    <tr>\n",
              "      <th>2</th>\n",
              "      <td>Erta e China Rosso di Toscana 2015</td>\n",
              "      <td>Italy</td>\n",
              "      <td>Toscana</td>\n",
              "      <td>Renzo Masi</td>\n",
              "      <td>3.9</td>\n",
              "      <td>100</td>\n",
              "      <td>7.45</td>\n",
              "      <td>2015</td>\n",
              "      <td>Red</td>\n",
              "      <td>1.01</td>\n",
              "    </tr>\n",
              "    <tr>\n",
              "      <th>3</th>\n",
              "      <td>Bardolino 2019</td>\n",
              "      <td>Italy</td>\n",
              "      <td>Bardolino</td>\n",
              "      <td>Cavalchina</td>\n",
              "      <td>3.5</td>\n",
              "      <td>100</td>\n",
              "      <td>8.72</td>\n",
              "      <td>2019</td>\n",
              "      <td>Red</td>\n",
              "      <td>1.18</td>\n",
              "    </tr>\n",
              "    <tr>\n",
              "      <th>4</th>\n",
              "      <td>Ried Scheibner Pinot Noir 2016</td>\n",
              "      <td>Austria</td>\n",
              "      <td>Carnuntum</td>\n",
              "      <td>Markowitsch</td>\n",
              "      <td>3.9</td>\n",
              "      <td>100</td>\n",
              "      <td>29.15</td>\n",
              "      <td>2016</td>\n",
              "      <td>Red</td>\n",
              "      <td>3.94</td>\n",
              "    </tr>\n",
              "    <tr>\n",
              "      <th>...</th>\n",
              "      <td>...</td>\n",
              "      <td>...</td>\n",
              "      <td>...</td>\n",
              "      <td>...</td>\n",
              "      <td>...</td>\n",
              "      <td>...</td>\n",
              "      <td>...</td>\n",
              "      <td>...</td>\n",
              "      <td>...</td>\n",
              "      <td>...</td>\n",
              "    </tr>\n",
              "    <tr>\n",
              "      <th>13829</th>\n",
              "      <td>Special Cuvée Brut Aÿ Champagne N.V.</td>\n",
              "      <td>France</td>\n",
              "      <td>Champagne</td>\n",
              "      <td>Bollinger</td>\n",
              "      <td>4.2</td>\n",
              "      <td>37765</td>\n",
              "      <td>46.00</td>\n",
              "      <td>2030</td>\n",
              "      <td>Sparkling</td>\n",
              "      <td>6.21</td>\n",
              "    </tr>\n",
              "    <tr>\n",
              "      <th>13830</th>\n",
              "      <td>Brut Premier Champagne N.V.</td>\n",
              "      <td>France</td>\n",
              "      <td>Champagne Premier Cru</td>\n",
              "      <td>Louis Roederer</td>\n",
              "      <td>4.2</td>\n",
              "      <td>40004</td>\n",
              "      <td>36.48</td>\n",
              "      <td>2030</td>\n",
              "      <td>Sparkling</td>\n",
              "      <td>4.92</td>\n",
              "    </tr>\n",
              "    <tr>\n",
              "      <th>13831</th>\n",
              "      <td>Impérial Brut Champagne N.V.</td>\n",
              "      <td>France</td>\n",
              "      <td>Champagne</td>\n",
              "      <td>Moët &amp; Chandon</td>\n",
              "      <td>4.1</td>\n",
              "      <td>76037</td>\n",
              "      <td>40.61</td>\n",
              "      <td>2030</td>\n",
              "      <td>Sparkling</td>\n",
              "      <td>5.48</td>\n",
              "    </tr>\n",
              "    <tr>\n",
              "      <th>13832</th>\n",
              "      <td>Brut (Carte Jaune) Champagne N.V.</td>\n",
              "      <td>France</td>\n",
              "      <td>Champagne</td>\n",
              "      <td>Veuve Clicquot</td>\n",
              "      <td>4.2</td>\n",
              "      <td>86839</td>\n",
              "      <td>43.60</td>\n",
              "      <td>2030</td>\n",
              "      <td>Sparkling</td>\n",
              "      <td>5.89</td>\n",
              "    </tr>\n",
              "    <tr>\n",
              "      <th>13833</th>\n",
              "      <td>Brut Champagne N.V.</td>\n",
              "      <td>France</td>\n",
              "      <td>Champagne</td>\n",
              "      <td>Dom Pérignon</td>\n",
              "      <td>4.6</td>\n",
              "      <td>94287</td>\n",
              "      <td>170.00</td>\n",
              "      <td>2030</td>\n",
              "      <td>Sparkling</td>\n",
              "      <td>22.95</td>\n",
              "    </tr>\n",
              "  </tbody>\n",
              "</table>\n",
              "<p>13834 rows × 10 columns</p>\n",
              "</div>"
            ],
            "text/plain": [
              "                                       Name  Country  ...       Type Price(\\)\n",
              "0                              Pomerol 2011   France  ...        Red    12.82\n",
              "1                                Lirac 2017   France  ...        Red     2.09\n",
              "2        Erta e China Rosso di Toscana 2015    Italy  ...        Red     1.01\n",
              "3                            Bardolino 2019    Italy  ...        Red     1.18\n",
              "4            Ried Scheibner Pinot Noir 2016  Austria  ...        Red     3.94\n",
              "...                                     ...      ...  ...        ...      ...\n",
              "13829  Special Cuvée Brut Aÿ Champagne N.V.   France  ...  Sparkling     6.21\n",
              "13830           Brut Premier Champagne N.V.   France  ...  Sparkling     4.92\n",
              "13831          Impérial Brut Champagne N.V.   France  ...  Sparkling     5.48\n",
              "13832     Brut (Carte Jaune) Champagne N.V.   France  ...  Sparkling     5.89\n",
              "13833                   Brut Champagne N.V.   France  ...  Sparkling    22.95\n",
              "\n",
              "[13834 rows x 10 columns]"
            ]
          },
          "metadata": {},
          "execution_count": 16
        }
      ]
    },
    {
      "cell_type": "code",
      "metadata": {
        "id": "tbrdo3qEV7W7"
      },
      "source": [
        "wines.to_csv('wines.csv', encoding='utf-8', index=False)"
      ],
      "execution_count": 17,
      "outputs": []
    },
    {
      "cell_type": "code",
      "metadata": {
        "id": "PmR9NZLHDOG3",
        "colab": {
          "base_uri": "https://localhost:8080/"
        },
        "outputId": "066016b4-94a3-4384-e6c5-c0d329285f14"
      },
      "source": [
        "# 유로로 표현된 가격을 만원 단위로 변환(1유로 환율: 1350)\n",
        "wines['Price(\\)'] = round((wines['Price']*1350)/10000,2)\n",
        "wines['Price(\\)'] = wines['Price(\\)']\n",
        "wines['Price(\\)']"
      ],
      "execution_count": 18,
      "outputs": [
        {
          "output_type": "execute_result",
          "data": {
            "text/plain": [
              "0        12.82\n",
              "1         2.09\n",
              "2         1.01\n",
              "3         1.18\n",
              "4         3.94\n",
              "         ...  \n",
              "13829     6.21\n",
              "13830     4.92\n",
              "13831     5.48\n",
              "13832     5.89\n",
              "13833    22.95\n",
              "Name: Price(\\), Length: 13834, dtype: float64"
            ]
          },
          "metadata": {},
          "execution_count": 18
        }
      ]
    },
    {
      "cell_type": "markdown",
      "metadata": {
        "id": "PyeEdmDbW8ye"
      },
      "source": [
        "# 2) EDA"
      ]
    },
    {
      "cell_type": "code",
      "metadata": {
        "colab": {
          "base_uri": "https://localhost:8080/",
          "height": 409
        },
        "id": "xFfxW6RFW0XQ",
        "outputId": "54708cc7-3b74-4231-fcd7-0140fb5f1f61"
      },
      "source": [
        "wines.sample(frac=1).head() #샘플링을 통해 전반적인 정보 확인"
      ],
      "execution_count": 19,
      "outputs": [
        {
          "output_type": "execute_result",
          "data": {
            "text/html": [
              "<div>\n",
              "<style scoped>\n",
              "    .dataframe tbody tr th:only-of-type {\n",
              "        vertical-align: middle;\n",
              "    }\n",
              "\n",
              "    .dataframe tbody tr th {\n",
              "        vertical-align: top;\n",
              "    }\n",
              "\n",
              "    .dataframe thead th {\n",
              "        text-align: right;\n",
              "    }\n",
              "</style>\n",
              "<table border=\"1\" class=\"dataframe\">\n",
              "  <thead>\n",
              "    <tr style=\"text-align: right;\">\n",
              "      <th></th>\n",
              "      <th>Name</th>\n",
              "      <th>Country</th>\n",
              "      <th>Region</th>\n",
              "      <th>Winery</th>\n",
              "      <th>Rating</th>\n",
              "      <th>NumberOfRatings</th>\n",
              "      <th>Price</th>\n",
              "      <th>Year</th>\n",
              "      <th>Type</th>\n",
              "      <th>Price(\\)</th>\n",
              "    </tr>\n",
              "  </thead>\n",
              "  <tbody>\n",
              "    <tr>\n",
              "      <th>12149</th>\n",
              "      <td>The Stump Jump White Blend 2018</td>\n",
              "      <td>Australia</td>\n",
              "      <td>McLaren Vale</td>\n",
              "      <td>d'Arenberg</td>\n",
              "      <td>4.0</td>\n",
              "      <td>236</td>\n",
              "      <td>8.50</td>\n",
              "      <td>2018</td>\n",
              "      <td>White</td>\n",
              "      <td>1.15</td>\n",
              "    </tr>\n",
              "    <tr>\n",
              "      <th>8182</th>\n",
              "      <td>Syrah 2018</td>\n",
              "      <td>Italy</td>\n",
              "      <td>Terre Siciliane</td>\n",
              "      <td>Fatascia</td>\n",
              "      <td>3.7</td>\n",
              "      <td>87</td>\n",
              "      <td>7.53</td>\n",
              "      <td>2018</td>\n",
              "      <td>Red</td>\n",
              "      <td>1.02</td>\n",
              "    </tr>\n",
              "    <tr>\n",
              "      <th>1333</th>\n",
              "      <td>Single Vineyard Tempranillo 2016</td>\n",
              "      <td>Spain</td>\n",
              "      <td>La Mancha</td>\n",
              "      <td>Volver</td>\n",
              "      <td>4.0</td>\n",
              "      <td>1489</td>\n",
              "      <td>15.70</td>\n",
              "      <td>2016</td>\n",
              "      <td>Red</td>\n",
              "      <td>2.12</td>\n",
              "    </tr>\n",
              "    <tr>\n",
              "      <th>4742</th>\n",
              "      <td>Côtes-du-Rhône Rouge 2016</td>\n",
              "      <td>France</td>\n",
              "      <td>Côtes-du-Rhône</td>\n",
              "      <td>E. Guigal</td>\n",
              "      <td>3.7</td>\n",
              "      <td>3752</td>\n",
              "      <td>8.70</td>\n",
              "      <td>2016</td>\n",
              "      <td>Red</td>\n",
              "      <td>1.17</td>\n",
              "    </tr>\n",
              "    <tr>\n",
              "      <th>9400</th>\n",
              "      <td>Schlossberg Achkarren GG Grauburgunder 2017</td>\n",
              "      <td>Germany</td>\n",
              "      <td>Baden</td>\n",
              "      <td>Franz Keller</td>\n",
              "      <td>4.1</td>\n",
              "      <td>30</td>\n",
              "      <td>35.00</td>\n",
              "      <td>2017</td>\n",
              "      <td>White</td>\n",
              "      <td>4.72</td>\n",
              "    </tr>\n",
              "  </tbody>\n",
              "</table>\n",
              "</div>"
            ],
            "text/plain": [
              "                                              Name    Country  ...   Type Price(\\)\n",
              "12149              The Stump Jump White Blend 2018  Australia  ...  White     1.15\n",
              "8182                                    Syrah 2018      Italy  ...    Red     1.02\n",
              "1333              Single Vineyard Tempranillo 2016      Spain  ...    Red     2.12\n",
              "4742                     Côtes-du-Rhône Rouge 2016     France  ...    Red     1.17\n",
              "9400   Schlossberg Achkarren GG Grauburgunder 2017    Germany  ...  White     4.72\n",
              "\n",
              "[5 rows x 10 columns]"
            ]
          },
          "metadata": {},
          "execution_count": 19
        }
      ]
    },
    {
      "cell_type": "code",
      "metadata": {
        "colab": {
          "base_uri": "https://localhost:8080/"
        },
        "id": "x-Q4C3mdLypo",
        "outputId": "305cb5b0-87d1-4087-f07c-92d043ce1780"
      },
      "source": [
        "wines.shape"
      ],
      "execution_count": 20,
      "outputs": [
        {
          "output_type": "execute_result",
          "data": {
            "text/plain": [
              "(13834, 10)"
            ]
          },
          "metadata": {},
          "execution_count": 20
        }
      ]
    },
    {
      "cell_type": "code",
      "metadata": {
        "colab": {
          "base_uri": "https://localhost:8080/"
        },
        "id": "uHEvRErUL_9t",
        "outputId": "fa0ba9a0-48c4-48e7-9d8c-f318b42618c7"
      },
      "source": [
        "wines.info()"
      ],
      "execution_count": 21,
      "outputs": [
        {
          "output_type": "stream",
          "name": "stdout",
          "text": [
            "<class 'pandas.core.frame.DataFrame'>\n",
            "RangeIndex: 13834 entries, 0 to 13833\n",
            "Data columns (total 10 columns):\n",
            " #   Column           Non-Null Count  Dtype  \n",
            "---  ------           --------------  -----  \n",
            " 0   Name             13834 non-null  object \n",
            " 1   Country          13834 non-null  object \n",
            " 2   Region           13834 non-null  object \n",
            " 3   Winery           13834 non-null  object \n",
            " 4   Rating           13834 non-null  float64\n",
            " 5   NumberOfRatings  13834 non-null  int64  \n",
            " 6   Price            13834 non-null  float64\n",
            " 7   Year             13834 non-null  int64  \n",
            " 8   Type             13834 non-null  object \n",
            " 9   Price(\\)         13834 non-null  float64\n",
            "dtypes: float64(3), int64(2), object(5)\n",
            "memory usage: 1.1+ MB\n"
          ]
        }
      ]
    },
    {
      "cell_type": "code",
      "metadata": {
        "colab": {
          "base_uri": "https://localhost:8080/",
          "height": 296
        },
        "id": "HhdKrZlFMCIP",
        "outputId": "c406f4f9-8898-43a9-cdf9-d990aa6872ac"
      },
      "source": [
        "wines.describe()"
      ],
      "execution_count": 22,
      "outputs": [
        {
          "output_type": "execute_result",
          "data": {
            "text/html": [
              "<div>\n",
              "<style scoped>\n",
              "    .dataframe tbody tr th:only-of-type {\n",
              "        vertical-align: middle;\n",
              "    }\n",
              "\n",
              "    .dataframe tbody tr th {\n",
              "        vertical-align: top;\n",
              "    }\n",
              "\n",
              "    .dataframe thead th {\n",
              "        text-align: right;\n",
              "    }\n",
              "</style>\n",
              "<table border=\"1\" class=\"dataframe\">\n",
              "  <thead>\n",
              "    <tr style=\"text-align: right;\">\n",
              "      <th></th>\n",
              "      <th>Rating</th>\n",
              "      <th>NumberOfRatings</th>\n",
              "      <th>Price</th>\n",
              "      <th>Year</th>\n",
              "      <th>Price(\\)</th>\n",
              "    </tr>\n",
              "  </thead>\n",
              "  <tbody>\n",
              "    <tr>\n",
              "      <th>count</th>\n",
              "      <td>13834.000000</td>\n",
              "      <td>13834.000000</td>\n",
              "      <td>13834.000000</td>\n",
              "      <td>13834.000000</td>\n",
              "      <td>13834.000000</td>\n",
              "    </tr>\n",
              "    <tr>\n",
              "      <th>mean</th>\n",
              "      <td>3.865664</td>\n",
              "      <td>428.322466</td>\n",
              "      <td>33.024850</td>\n",
              "      <td>2016.309889</td>\n",
              "      <td>4.458411</td>\n",
              "    </tr>\n",
              "    <tr>\n",
              "      <th>std</th>\n",
              "      <td>0.296427</td>\n",
              "      <td>1838.413812</td>\n",
              "      <td>70.899893</td>\n",
              "      <td>4.561907</td>\n",
              "      <td>9.571455</td>\n",
              "    </tr>\n",
              "    <tr>\n",
              "      <th>min</th>\n",
              "      <td>2.200000</td>\n",
              "      <td>25.000000</td>\n",
              "      <td>3.150000</td>\n",
              "      <td>1961.000000</td>\n",
              "      <td>0.430000</td>\n",
              "    </tr>\n",
              "    <tr>\n",
              "      <th>25%</th>\n",
              "      <td>3.700000</td>\n",
              "      <td>56.000000</td>\n",
              "      <td>9.902500</td>\n",
              "      <td>2015.000000</td>\n",
              "      <td>1.340000</td>\n",
              "    </tr>\n",
              "    <tr>\n",
              "      <th>50%</th>\n",
              "      <td>3.900000</td>\n",
              "      <td>129.000000</td>\n",
              "      <td>15.950000</td>\n",
              "      <td>2016.000000</td>\n",
              "      <td>2.150000</td>\n",
              "    </tr>\n",
              "    <tr>\n",
              "      <th>75%</th>\n",
              "      <td>4.100000</td>\n",
              "      <td>336.000000</td>\n",
              "      <td>32.500000</td>\n",
              "      <td>2018.000000</td>\n",
              "      <td>4.390000</td>\n",
              "    </tr>\n",
              "    <tr>\n",
              "      <th>max</th>\n",
              "      <td>4.900000</td>\n",
              "      <td>94287.000000</td>\n",
              "      <td>3410.790000</td>\n",
              "      <td>2030.000000</td>\n",
              "      <td>460.460000</td>\n",
              "    </tr>\n",
              "  </tbody>\n",
              "</table>\n",
              "</div>"
            ],
            "text/plain": [
              "             Rating  NumberOfRatings         Price          Year      Price(\\)\n",
              "count  13834.000000     13834.000000  13834.000000  13834.000000  13834.000000\n",
              "mean       3.865664       428.322466     33.024850   2016.309889      4.458411\n",
              "std        0.296427      1838.413812     70.899893      4.561907      9.571455\n",
              "min        2.200000        25.000000      3.150000   1961.000000      0.430000\n",
              "25%        3.700000        56.000000      9.902500   2015.000000      1.340000\n",
              "50%        3.900000       129.000000     15.950000   2016.000000      2.150000\n",
              "75%        4.100000       336.000000     32.500000   2018.000000      4.390000\n",
              "max        4.900000     94287.000000   3410.790000   2030.000000    460.460000"
            ]
          },
          "metadata": {},
          "execution_count": 22
        }
      ]
    },
    {
      "cell_type": "code",
      "metadata": {
        "colab": {
          "base_uri": "https://localhost:8080/"
        },
        "id": "bjhIVivwMGPx",
        "outputId": "44581426-e8c3-43ea-b796-e9899df9899e"
      },
      "source": [
        "wines.Country.nunique()"
      ],
      "execution_count": 23,
      "outputs": [
        {
          "output_type": "execute_result",
          "data": {
            "text/plain": [
              "33"
            ]
          },
          "metadata": {},
          "execution_count": 23
        }
      ]
    },
    {
      "cell_type": "code",
      "metadata": {
        "colab": {
          "base_uri": "https://localhost:8080/"
        },
        "id": "jfVWnPgoMIms",
        "outputId": "08e3f473-2450-4b71-fa02-e3c16ea8833c"
      },
      "source": [
        "wines.Country.value_counts()"
      ],
      "execution_count": 24,
      "outputs": [
        {
          "output_type": "execute_result",
          "data": {
            "text/plain": [
              "Italy             3919\n",
              "France            3436\n",
              "Spain             1533\n",
              "Germany           1229\n",
              "South Africa       846\n",
              "United States      530\n",
              "Austria            492\n",
              "Chile              431\n",
              "Portugal           336\n",
              "Australia          318\n",
              "Argentina          308\n",
              "New Zealand        165\n",
              "Brazil              50\n",
              "Romania             37\n",
              "Greece              25\n",
              "Switzerland         23\n",
              "Israel              23\n",
              "Hungary             19\n",
              "Slovenia            18\n",
              "Moldova             16\n",
              "Lebanon             16\n",
              "Luxembourg          14\n",
              "Georgia             13\n",
              "Turkey              10\n",
              "Croatia              6\n",
              "Uruguay              5\n",
              "China                3\n",
              "United Kingdom       3\n",
              "Canada               3\n",
              "Czech Republic       2\n",
              "Slovakia             2\n",
              "Bulgaria             2\n",
              "Mexico               1\n",
              "Name: Country, dtype: int64"
            ]
          },
          "metadata": {},
          "execution_count": 24
        }
      ]
    },
    {
      "cell_type": "code",
      "metadata": {
        "id": "Gduh9D5FNBNf"
      },
      "source": [
        "wines = pd.read_csv('wines.csv')"
      ],
      "execution_count": 25,
      "outputs": []
    },
    {
      "cell_type": "code",
      "metadata": {
        "id": "HJIMnRtXMKgM"
      },
      "source": [
        "# 와인 수출 상위 국가\n",
        "Most_countries = wines.Country.value_counts()[:12] "
      ],
      "execution_count": 26,
      "outputs": []
    },
    {
      "cell_type": "code",
      "metadata": {
        "colab": {
          "base_uri": "https://localhost:8080/",
          "height": 350
        },
        "id": "fiZB4KUNMkh7",
        "outputId": "6a0c3477-2b6a-4240-dcd1-f221b34594c6"
      },
      "source": [
        "plt.figure(figsize=(10,4))\n",
        "\n",
        "country = wines.Country.value_counts()[:12]\n",
        "\n",
        "graph = sns.countplot(x='Country', \n",
        "                  data=wines[wines.Country.isin(Most_countries.index.values)],\n",
        "                 color='purple')\n",
        "graph.set_title(\"Countries with the largest export volume\", fontsize=20)\n",
        "graph.set_xlabel(\"Country\", fontsize=15)\n",
        "graph.set_ylabel(\"Volume\", fontsize=15)\n",
        "graph.set_xticklabels(graph.get_xticklabels(),rotation=45)\n",
        "\n",
        "plt.show()"
      ],
      "execution_count": 27,
      "outputs": [
        {
          "output_type": "display_data",
          "data": {
            "image/png": "[encoded data removed]",
            "text/plain": [
              "<Figure size 720x288 with 1 Axes>"
            ]
          },
          "metadata": {
            "needs_background": "light"
          }
        }
      ]
    },
    {
      "cell_type": "markdown",
      "metadata": {
        "id": "z5FeGByaOUUo"
      },
      "source": [
        "Rating"
      ]
    },
    {
      "cell_type": "code",
      "metadata": {
        "colab": {
          "base_uri": "https://localhost:8080/",
          "height": 305
        },
        "id": "ZmkDYGG2MnyL",
        "outputId": "b62b8d8e-2593-424f-ac17-46e87f1c4d7a"
      },
      "source": [
        "plt.figure(figsize=(10, 4))\n",
        "graph = sns.countplot(x='Rating', data=wines, color='mediumpurple')\n",
        "graph.set_title(\"Rating Count distribuition \", fontsize=20)\n",
        "graph.set_xlabel(\"Rating\", fontsize=15) \n",
        "graph.set_ylabel(\"Count\", fontsize=15)\n",
        "plt.show()"
      ],
      "execution_count": 28,
      "outputs": [
        {
          "output_type": "display_data",
          "data": {
            "image/png": "[encoded data removed]",
            "text/plain": [
              "<Figure size 720x288 with 1 Axes>"
            ]
          },
          "metadata": {
            "needs_background": "light"
          }
        }
      ]
    },
    {
      "cell_type": "code",
      "metadata": {
        "colab": {
          "base_uri": "https://localhost:8080/",
          "height": 646
        },
        "id": "Qs2SNBlsPq10",
        "outputId": "6a94ce9d-8e9e-4b15-d357-4dc8b7d1eaee"
      },
      "source": [
        "plt.figure(figsize=(10,10))\n",
        "plt.subplot(2,1,1)\n",
        "graph = sns.distplot(wines['Price(\\)'], color='coral')\n",
        "graph.set_title(\"Price distribuition\", fontsize=20) # seting title and size of font\n",
        "graph.set_xlabel(\"Price (KOR)\", fontsize=15) # seting xlabel and size of font\n",
        "graph.set_ylabel(\"Frequency\", fontsize=15) # seting ylabel and size of font\n",
        "\n",
        "plt.subplot(2,1,2)\n",
        "graph1 = sns.distplot(np.log(wines['Price(\\)']) , color='violet')\n",
        "graph1.set_title(\"Price Log distribuition\", fontsize=20) # seting title and size of font\n",
        "graph1.set_xlabel(\"Price(KOR)\", fontsize=15) # seting xlabel and size of font\n",
        "graph1.set_ylabel(\"Frequency\", fontsize=15) # seting ylabel and size of font\n",
        "graph1.set_xticklabels(np.exp(graph1.get_xticks()).astype(int))\n",
        "\n",
        "plt.subplots_adjust(hspace = 0.3,top = 0.9)\n",
        "plt.show()"
      ],
      "execution_count": 29,
      "outputs": [
        {
          "output_type": "display_data",
          "data": {
            "image/png": "[encoded data removed]",
            "text/plain": [
              "<Figure size 720x720 with 2 Axes>"
            ]
          },
          "metadata": {
            "needs_background": "light"
          }
        }
      ]
    },
    {
      "cell_type": "code",
      "metadata": {
        "id": "B1cAAp0qUTC3"
      },
      "source": [
        "varieties = pd.read_csv(\"Varieties.csv\")\n",
        "wines['Variety'] = np.nan\n",
        "for index in wines.index:\n",
        "    for variety in varieties['Variety']:    \n",
        "        if variety in wines.loc[index, 'Name']:\n",
        "            wines.loc[index, 'Variety'] = variety\n",
        "            break"
      ],
      "execution_count": 30,
      "outputs": []
    },
    {
      "cell_type": "code",
      "metadata": {
        "colab": {
          "base_uri": "https://localhost:8080/"
        },
        "id": "xVAMXeruPrMt",
        "outputId": "f719f838-a785-4218-bae4-56a450993c07"
      },
      "source": [
        "print('Now we have variety for', wines.Variety.notna().sum(),'wines,',\n",
        "      '%s%%' % int(wines.Variety.notna().sum()/len(wines)*100), 'of all')"
      ],
      "execution_count": 31,
      "outputs": [
        {
          "output_type": "stream",
          "name": "stdout",
          "text": [
            "Now we have variety for 5768 wines, 41% of all\n"
          ]
        }
      ]
    },
    {
      "cell_type": "code",
      "metadata": {
        "id": "4wQYOIJRVATK"
      },
      "source": [
        "# replace NaN's\n",
        "wines.Variety = wines.Variety.fillna('unknown')"
      ],
      "execution_count": 32,
      "outputs": []
    },
    {
      "cell_type": "code",
      "metadata": {
        "colab": {
          "base_uri": "https://localhost:8080/"
        },
        "id": "KDj9HnBMVBuy",
        "outputId": "a07cf44e-1136-419c-dfa7-08b89b761545"
      },
      "source": [
        "wines = pd.read_csv(\"wines.csv\")\n",
        "wines.info()"
      ],
      "execution_count": null,
      "outputs": [
        {
          "output_type": "stream",
          "text": [
            "<class 'pandas.core.frame.DataFrame'>\n",
            "RangeIndex: 13834 entries, 0 to 13833\n",
            "Data columns (total 10 columns):\n",
            " #   Column           Non-Null Count  Dtype  \n",
            "---  ------           --------------  -----  \n",
            " 0   Name             13834 non-null  object \n",
            " 1   Country          13834 non-null  object \n",
            " 2   Region           13834 non-null  object \n",
            " 3   Winery           13834 non-null  object \n",
            " 4   Rating           13834 non-null  float64\n",
            " 5   NumberOfRatings  13834 non-null  int64  \n",
            " 6   Price            13834 non-null  float64\n",
            " 7   Year             13834 non-null  int64  \n",
            " 8   Type             13834 non-null  object \n",
            " 9   Price(\\)         13834 non-null  float64\n",
            "dtypes: float64(3), int64(2), object(5)\n",
            "memory usage: 1.1+ MB\n"
          ],
          "name": "stdout"
        }
      ]
    },
    {
      "cell_type": "markdown",
      "metadata": {
        "id": "Ptra2ZBcqkIB"
      },
      "source": [
        "가격대 변수 Price2 추가"
      ]
    },
    {
      "cell_type": "code",
      "metadata": {
        "id": "F1A_2oj_n1FQ"
      },
      "source": [
        "wines['Price2'] = np.nan\n",
        "\n",
        "for i in range(len(wines)):\n",
        "    if 0 < wines['Price(\\)'][i] < 3.0:\n",
        "      wines['Price2'][i] = '1~2만원대'\n",
        "    elif 3.0 <= wines['Price(\\)'][i] <5.0:\n",
        "      wines['Price2'][i] = '3~4만원대'\n",
        "    elif 5.0 <= wines['Price(\\)'][i] <7.0:\n",
        "      wines['Price2'][i] = '5~6만원대'\n",
        "    elif 7.0 <= wines['Price(\\)'][i] <10.0:\n",
        "      wines['Price2'][i] = '7~9만원대'\n",
        "    elif wines['Price(\\)'][i] >= 10:\n",
        "      wines['Price2'][i] = '10만원~'"
      ],
      "execution_count": 33,
      "outputs": []
    },
    {
      "cell_type": "markdown",
      "metadata": {
        "id": "qmyqIuGlwy2N"
      },
      "source": [
        "기념일 여부 추가"
      ]
    },
    {
      "cell_type": "code",
      "metadata": {
        "id": "GxsEdOzKwyT_"
      },
      "source": [
        "wines['Celeb'] = np.nan\n",
        "\n",
        "for i in range(len(wines)):\n",
        "  if wines['Type'][i] == 'White':\n",
        "    wines['Celeb'][i] = 'no'\n",
        "  else:\n",
        "    wines['Celeb'][i] = 'yes'"
      ],
      "execution_count": 34,
      "outputs": []
    },
    {
      "cell_type": "code",
      "metadata": {
        "colab": {
          "base_uri": "https://localhost:8080/",
          "height": 860
        },
        "id": "qk1dLdUNNoQP",
        "outputId": "5fb3bab8-635b-40b6-e268-7bc6b349b5c4"
      },
      "source": [
        "wines"
      ],
      "execution_count": 35,
      "outputs": [
        {
          "output_type": "execute_result",
          "data": {
            "text/html": [
              "<div>\n",
              "<style scoped>\n",
              "    .dataframe tbody tr th:only-of-type {\n",
              "        vertical-align: middle;\n",
              "    }\n",
              "\n",
              "    .dataframe tbody tr th {\n",
              "        vertical-align: top;\n",
              "    }\n",
              "\n",
              "    .dataframe thead th {\n",
              "        text-align: right;\n",
              "    }\n",
              "</style>\n",
              "<table border=\"1\" class=\"dataframe\">\n",
              "  <thead>\n",
              "    <tr style=\"text-align: right;\">\n",
              "      <th></th>\n",
              "      <th>Name</th>\n",
              "      <th>Country</th>\n",
              "      <th>Region</th>\n",
              "      <th>Winery</th>\n",
              "      <th>Rating</th>\n",
              "      <th>NumberOfRatings</th>\n",
              "      <th>Price</th>\n",
              "      <th>Year</th>\n",
              "      <th>Type</th>\n",
              "      <th>Price(\\)</th>\n",
              "      <th>Variety</th>\n",
              "      <th>Price2</th>\n",
              "      <th>Celeb</th>\n",
              "    </tr>\n",
              "  </thead>\n",
              "  <tbody>\n",
              "    <tr>\n",
              "      <th>0</th>\n",
              "      <td>Pomerol 2011</td>\n",
              "      <td>France</td>\n",
              "      <td>Pomerol</td>\n",
              "      <td>Château La Providence</td>\n",
              "      <td>4.2</td>\n",
              "      <td>100</td>\n",
              "      <td>95.00</td>\n",
              "      <td>2011</td>\n",
              "      <td>Red</td>\n",
              "      <td>12.82</td>\n",
              "      <td>unknown</td>\n",
              "      <td>10만원~</td>\n",
              "      <td>yes</td>\n",
              "    </tr>\n",
              "    <tr>\n",
              "      <th>1</th>\n",
              "      <td>Lirac 2017</td>\n",
              "      <td>France</td>\n",
              "      <td>Lirac</td>\n",
              "      <td>Château Mont-Redon</td>\n",
              "      <td>4.3</td>\n",
              "      <td>100</td>\n",
              "      <td>15.50</td>\n",
              "      <td>2017</td>\n",
              "      <td>Red</td>\n",
              "      <td>2.09</td>\n",
              "      <td>unknown</td>\n",
              "      <td>1~2만원대</td>\n",
              "      <td>yes</td>\n",
              "    </tr>\n",
              "    <tr>\n",
              "      <th>2</th>\n",
              "      <td>Erta e China Rosso di Toscana 2015</td>\n",
              "      <td>Italy</td>\n",
              "      <td>Toscana</td>\n",
              "      <td>Renzo Masi</td>\n",
              "      <td>3.9</td>\n",
              "      <td>100</td>\n",
              "      <td>7.45</td>\n",
              "      <td>2015</td>\n",
              "      <td>Red</td>\n",
              "      <td>1.01</td>\n",
              "      <td>unknown</td>\n",
              "      <td>1~2만원대</td>\n",
              "      <td>yes</td>\n",
              "    </tr>\n",
              "    <tr>\n",
              "      <th>3</th>\n",
              "      <td>Bardolino 2019</td>\n",
              "      <td>Italy</td>\n",
              "      <td>Bardolino</td>\n",
              "      <td>Cavalchina</td>\n",
              "      <td>3.5</td>\n",
              "      <td>100</td>\n",
              "      <td>8.72</td>\n",
              "      <td>2019</td>\n",
              "      <td>Red</td>\n",
              "      <td>1.18</td>\n",
              "      <td>unknown</td>\n",
              "      <td>1~2만원대</td>\n",
              "      <td>yes</td>\n",
              "    </tr>\n",
              "    <tr>\n",
              "      <th>4</th>\n",
              "      <td>Ried Scheibner Pinot Noir 2016</td>\n",
              "      <td>Austria</td>\n",
              "      <td>Carnuntum</td>\n",
              "      <td>Markowitsch</td>\n",
              "      <td>3.9</td>\n",
              "      <td>100</td>\n",
              "      <td>29.15</td>\n",
              "      <td>2016</td>\n",
              "      <td>Red</td>\n",
              "      <td>3.94</td>\n",
              "      <td>Pinot Noir</td>\n",
              "      <td>3~4만원대</td>\n",
              "      <td>yes</td>\n",
              "    </tr>\n",
              "    <tr>\n",
              "      <th>...</th>\n",
              "      <td>...</td>\n",
              "      <td>...</td>\n",
              "      <td>...</td>\n",
              "      <td>...</td>\n",
              "      <td>...</td>\n",
              "      <td>...</td>\n",
              "      <td>...</td>\n",
              "      <td>...</td>\n",
              "      <td>...</td>\n",
              "      <td>...</td>\n",
              "      <td>...</td>\n",
              "      <td>...</td>\n",
              "      <td>...</td>\n",
              "    </tr>\n",
              "    <tr>\n",
              "      <th>13829</th>\n",
              "      <td>Special Cuvée Brut Aÿ Champagne N.V.</td>\n",
              "      <td>France</td>\n",
              "      <td>Champagne</td>\n",
              "      <td>Bollinger</td>\n",
              "      <td>4.2</td>\n",
              "      <td>37765</td>\n",
              "      <td>46.00</td>\n",
              "      <td>2030</td>\n",
              "      <td>Sparkling</td>\n",
              "      <td>6.21</td>\n",
              "      <td>unknown</td>\n",
              "      <td>5~6만원대</td>\n",
              "      <td>yes</td>\n",
              "    </tr>\n",
              "    <tr>\n",
              "      <th>13830</th>\n",
              "      <td>Brut Premier Champagne N.V.</td>\n",
              "      <td>France</td>\n",
              "      <td>Champagne Premier Cru</td>\n",
              "      <td>Louis Roederer</td>\n",
              "      <td>4.2</td>\n",
              "      <td>40004</td>\n",
              "      <td>36.48</td>\n",
              "      <td>2030</td>\n",
              "      <td>Sparkling</td>\n",
              "      <td>4.92</td>\n",
              "      <td>unknown</td>\n",
              "      <td>3~4만원대</td>\n",
              "      <td>yes</td>\n",
              "    </tr>\n",
              "    <tr>\n",
              "      <th>13831</th>\n",
              "      <td>Impérial Brut Champagne N.V.</td>\n",
              "      <td>France</td>\n",
              "      <td>Champagne</td>\n",
              "      <td>Moët &amp; Chandon</td>\n",
              "      <td>4.1</td>\n",
              "      <td>76037</td>\n",
              "      <td>40.61</td>\n",
              "      <td>2030</td>\n",
              "      <td>Sparkling</td>\n",
              "      <td>5.48</td>\n",
              "      <td>unknown</td>\n",
              "      <td>5~6만원대</td>\n",
              "      <td>yes</td>\n",
              "    </tr>\n",
              "    <tr>\n",
              "      <th>13832</th>\n",
              "      <td>Brut (Carte Jaune) Champagne N.V.</td>\n",
              "      <td>France</td>\n",
              "      <td>Champagne</td>\n",
              "      <td>Veuve Clicquot</td>\n",
              "      <td>4.2</td>\n",
              "      <td>86839</td>\n",
              "      <td>43.60</td>\n",
              "      <td>2030</td>\n",
              "      <td>Sparkling</td>\n",
              "      <td>5.89</td>\n",
              "      <td>unknown</td>\n",
              "      <td>5~6만원대</td>\n",
              "      <td>yes</td>\n",
              "    </tr>\n",
              "    <tr>\n",
              "      <th>13833</th>\n",
              "      <td>Brut Champagne N.V.</td>\n",
              "      <td>France</td>\n",
              "      <td>Champagne</td>\n",
              "      <td>Dom Pérignon</td>\n",
              "      <td>4.6</td>\n",
              "      <td>94287</td>\n",
              "      <td>170.00</td>\n",
              "      <td>2030</td>\n",
              "      <td>Sparkling</td>\n",
              "      <td>22.95</td>\n",
              "      <td>unknown</td>\n",
              "      <td>10만원~</td>\n",
              "      <td>yes</td>\n",
              "    </tr>\n",
              "  </tbody>\n",
              "</table>\n",
              "<p>13834 rows × 13 columns</p>\n",
              "</div>"
            ],
            "text/plain": [
              "                                       Name  Country  ...  Price2 Celeb\n",
              "0                              Pomerol 2011   France  ...   10만원~   yes\n",
              "1                                Lirac 2017   France  ...  1~2만원대   yes\n",
              "2        Erta e China Rosso di Toscana 2015    Italy  ...  1~2만원대   yes\n",
              "3                            Bardolino 2019    Italy  ...  1~2만원대   yes\n",
              "4            Ried Scheibner Pinot Noir 2016  Austria  ...  3~4만원대   yes\n",
              "...                                     ...      ...  ...     ...   ...\n",
              "13829  Special Cuvée Brut Aÿ Champagne N.V.   France  ...  5~6만원대   yes\n",
              "13830           Brut Premier Champagne N.V.   France  ...  3~4만원대   yes\n",
              "13831          Impérial Brut Champagne N.V.   France  ...  5~6만원대   yes\n",
              "13832     Brut (Carte Jaune) Champagne N.V.   France  ...  5~6만원대   yes\n",
              "13833                   Brut Champagne N.V.   France  ...   10만원~   yes\n",
              "\n",
              "[13834 rows x 13 columns]"
            ]
          },
          "metadata": {},
          "execution_count": 35
        }
      ]
    },
    {
      "cell_type": "markdown",
      "metadata": {
        "id": "J5NQgsg0q1eJ"
      },
      "source": [
        "잘 어울리는 음식 추가"
      ]
    },
    {
      "cell_type": "code",
      "metadata": {
        "id": "FeSgmrniq0AT"
      },
      "source": [
        "wines['Food'] = np.nan\n",
        "\n",
        "for i in range(len(wines)):\n",
        "  if wines['Type'][i] == 'Red':\n",
        "    wines['Food'][i] = ['육류','기타']\n",
        "  elif wines['Type'][i] == 'White':\n",
        "    wines['Food'][i] = ['해산물', '식전주','기타']\n",
        "  elif wines['Type'][i] == 'Rose':\n",
        "    wines['Food'][i] = ['해산물','기타','식전주']\n",
        "  elif wines['Type'][i] == 'Sparkling':\n",
        "    wines['Food'][i] = ['과일','기타','식전주']"
      ],
      "execution_count": 36,
      "outputs": []
    },
    {
      "cell_type": "code",
      "metadata": {
        "colab": {
          "base_uri": "https://localhost:8080/",
          "height": 1000
        },
        "id": "kcpBmV7hNw1_",
        "outputId": "542c2900-4191-445b-b5ee-ceed624efcd1"
      },
      "source": [
        "wines"
      ],
      "execution_count": 37,
      "outputs": [
        {
          "output_type": "execute_result",
          "data": {
            "text/html": [
              "<div>\n",
              "<style scoped>\n",
              "    .dataframe tbody tr th:only-of-type {\n",
              "        vertical-align: middle;\n",
              "    }\n",
              "\n",
              "    .dataframe tbody tr th {\n",
              "        vertical-align: top;\n",
              "    }\n",
              "\n",
              "    .dataframe thead th {\n",
              "        text-align: right;\n",
              "    }\n",
              "</style>\n",
              "<table border=\"1\" class=\"dataframe\">\n",
              "  <thead>\n",
              "    <tr style=\"text-align: right;\">\n",
              "      <th></th>\n",
              "      <th>Name</th>\n",
              "      <th>Country</th>\n",
              "      <th>Region</th>\n",
              "      <th>Winery</th>\n",
              "      <th>Rating</th>\n",
              "      <th>NumberOfRatings</th>\n",
              "      <th>Price</th>\n",
              "      <th>Year</th>\n",
              "      <th>Type</th>\n",
              "      <th>Price(\\)</th>\n",
              "      <th>Variety</th>\n",
              "      <th>Price2</th>\n",
              "      <th>Celeb</th>\n",
              "      <th>Food</th>\n",
              "    </tr>\n",
              "  </thead>\n",
              "  <tbody>\n",
              "    <tr>\n",
              "      <th>0</th>\n",
              "      <td>Pomerol 2011</td>\n",
              "      <td>France</td>\n",
              "      <td>Pomerol</td>\n",
              "      <td>Château La Providence</td>\n",
              "      <td>4.2</td>\n",
              "      <td>100</td>\n",
              "      <td>95.00</td>\n",
              "      <td>2011</td>\n",
              "      <td>Red</td>\n",
              "      <td>12.82</td>\n",
              "      <td>unknown</td>\n",
              "      <td>10만원~</td>\n",
              "      <td>yes</td>\n",
              "      <td>[육류, 기타]</td>\n",
              "    </tr>\n",
              "    <tr>\n",
              "      <th>1</th>\n",
              "      <td>Lirac 2017</td>\n",
              "      <td>France</td>\n",
              "      <td>Lirac</td>\n",
              "      <td>Château Mont-Redon</td>\n",
              "      <td>4.3</td>\n",
              "      <td>100</td>\n",
              "      <td>15.50</td>\n",
              "      <td>2017</td>\n",
              "      <td>Red</td>\n",
              "      <td>2.09</td>\n",
              "      <td>unknown</td>\n",
              "      <td>1~2만원대</td>\n",
              "      <td>yes</td>\n",
              "      <td>[육류, 기타]</td>\n",
              "    </tr>\n",
              "    <tr>\n",
              "      <th>2</th>\n",
              "      <td>Erta e China Rosso di Toscana 2015</td>\n",
              "      <td>Italy</td>\n",
              "      <td>Toscana</td>\n",
              "      <td>Renzo Masi</td>\n",
              "      <td>3.9</td>\n",
              "      <td>100</td>\n",
              "      <td>7.45</td>\n",
              "      <td>2015</td>\n",
              "      <td>Red</td>\n",
              "      <td>1.01</td>\n",
              "      <td>unknown</td>\n",
              "      <td>1~2만원대</td>\n",
              "      <td>yes</td>\n",
              "      <td>[육류, 기타]</td>\n",
              "    </tr>\n",
              "    <tr>\n",
              "      <th>3</th>\n",
              "      <td>Bardolino 2019</td>\n",
              "      <td>Italy</td>\n",
              "      <td>Bardolino</td>\n",
              "      <td>Cavalchina</td>\n",
              "      <td>3.5</td>\n",
              "      <td>100</td>\n",
              "      <td>8.72</td>\n",
              "      <td>2019</td>\n",
              "      <td>Red</td>\n",
              "      <td>1.18</td>\n",
              "      <td>unknown</td>\n",
              "      <td>1~2만원대</td>\n",
              "      <td>yes</td>\n",
              "      <td>[육류, 기타]</td>\n",
              "    </tr>\n",
              "    <tr>\n",
              "      <th>4</th>\n",
              "      <td>Ried Scheibner Pinot Noir 2016</td>\n",
              "      <td>Austria</td>\n",
              "      <td>Carnuntum</td>\n",
              "      <td>Markowitsch</td>\n",
              "      <td>3.9</td>\n",
              "      <td>100</td>\n",
              "      <td>29.15</td>\n",
              "      <td>2016</td>\n",
              "      <td>Red</td>\n",
              "      <td>3.94</td>\n",
              "      <td>Pinot Noir</td>\n",
              "      <td>3~4만원대</td>\n",
              "      <td>yes</td>\n",
              "      <td>[육류, 기타]</td>\n",
              "    </tr>\n",
              "    <tr>\n",
              "      <th>...</th>\n",
              "      <td>...</td>\n",
              "      <td>...</td>\n",
              "      <td>...</td>\n",
              "      <td>...</td>\n",
              "      <td>...</td>\n",
              "      <td>...</td>\n",
              "      <td>...</td>\n",
              "      <td>...</td>\n",
              "      <td>...</td>\n",
              "      <td>...</td>\n",
              "      <td>...</td>\n",
              "      <td>...</td>\n",
              "      <td>...</td>\n",
              "      <td>...</td>\n",
              "    </tr>\n",
              "    <tr>\n",
              "      <th>13829</th>\n",
              "      <td>Special Cuvée Brut Aÿ Champagne N.V.</td>\n",
              "      <td>France</td>\n",
              "      <td>Champagne</td>\n",
              "      <td>Bollinger</td>\n",
              "      <td>4.2</td>\n",
              "      <td>37765</td>\n",
              "      <td>46.00</td>\n",
              "      <td>2030</td>\n",
              "      <td>Sparkling</td>\n",
              "      <td>6.21</td>\n",
              "      <td>unknown</td>\n",
              "      <td>5~6만원대</td>\n",
              "      <td>yes</td>\n",
              "      <td>[과일, 기타, 식전주]</td>\n",
              "    </tr>\n",
              "    <tr>\n",
              "      <th>13830</th>\n",
              "      <td>Brut Premier Champagne N.V.</td>\n",
              "      <td>France</td>\n",
              "      <td>Champagne Premier Cru</td>\n",
              "      <td>Louis Roederer</td>\n",
              "      <td>4.2</td>\n",
              "      <td>40004</td>\n",
              "      <td>36.48</td>\n",
              "      <td>2030</td>\n",
              "      <td>Sparkling</td>\n",
              "      <td>4.92</td>\n",
              "      <td>unknown</td>\n",
              "      <td>3~4만원대</td>\n",
              "      <td>yes</td>\n",
              "      <td>[과일, 기타, 식전주]</td>\n",
              "    </tr>\n",
              "    <tr>\n",
              "      <th>13831</th>\n",
              "      <td>Impérial Brut Champagne N.V.</td>\n",
              "      <td>France</td>\n",
              "      <td>Champagne</td>\n",
              "      <td>Moët &amp; Chandon</td>\n",
              "      <td>4.1</td>\n",
              "      <td>76037</td>\n",
              "      <td>40.61</td>\n",
              "      <td>2030</td>\n",
              "      <td>Sparkling</td>\n",
              "      <td>5.48</td>\n",
              "      <td>unknown</td>\n",
              "      <td>5~6만원대</td>\n",
              "      <td>yes</td>\n",
              "      <td>[과일, 기타, 식전주]</td>\n",
              "    </tr>\n",
              "    <tr>\n",
              "      <th>13832</th>\n",
              "      <td>Brut (Carte Jaune) Champagne N.V.</td>\n",
              "      <td>France</td>\n",
              "      <td>Champagne</td>\n",
              "      <td>Veuve Clicquot</td>\n",
              "      <td>4.2</td>\n",
              "      <td>86839</td>\n",
              "      <td>43.60</td>\n",
              "      <td>2030</td>\n",
              "      <td>Sparkling</td>\n",
              "      <td>5.89</td>\n",
              "      <td>unknown</td>\n",
              "      <td>5~6만원대</td>\n",
              "      <td>yes</td>\n",
              "      <td>[과일, 기타, 식전주]</td>\n",
              "    </tr>\n",
              "    <tr>\n",
              "      <th>13833</th>\n",
              "      <td>Brut Champagne N.V.</td>\n",
              "      <td>France</td>\n",
              "      <td>Champagne</td>\n",
              "      <td>Dom Pérignon</td>\n",
              "      <td>4.6</td>\n",
              "      <td>94287</td>\n",
              "      <td>170.00</td>\n",
              "      <td>2030</td>\n",
              "      <td>Sparkling</td>\n",
              "      <td>22.95</td>\n",
              "      <td>unknown</td>\n",
              "      <td>10만원~</td>\n",
              "      <td>yes</td>\n",
              "      <td>[과일, 기타, 식전주]</td>\n",
              "    </tr>\n",
              "  </tbody>\n",
              "</table>\n",
              "<p>13834 rows × 14 columns</p>\n",
              "</div>"
            ],
            "text/plain": [
              "                                       Name  Country  ... Celeb           Food\n",
              "0                              Pomerol 2011   France  ...   yes       [육류, 기타]\n",
              "1                                Lirac 2017   France  ...   yes       [육류, 기타]\n",
              "2        Erta e China Rosso di Toscana 2015    Italy  ...   yes       [육류, 기타]\n",
              "3                            Bardolino 2019    Italy  ...   yes       [육류, 기타]\n",
              "4            Ried Scheibner Pinot Noir 2016  Austria  ...   yes       [육류, 기타]\n",
              "...                                     ...      ...  ...   ...            ...\n",
              "13829  Special Cuvée Brut Aÿ Champagne N.V.   France  ...   yes  [과일, 기타, 식전주]\n",
              "13830           Brut Premier Champagne N.V.   France  ...   yes  [과일, 기타, 식전주]\n",
              "13831          Impérial Brut Champagne N.V.   France  ...   yes  [과일, 기타, 식전주]\n",
              "13832     Brut (Carte Jaune) Champagne N.V.   France  ...   yes  [과일, 기타, 식전주]\n",
              "13833                   Brut Champagne N.V.   France  ...   yes  [과일, 기타, 식전주]\n",
              "\n",
              "[13834 rows x 14 columns]"
            ]
          },
          "metadata": {},
          "execution_count": 37
        }
      ]
    },
    {
      "cell_type": "code",
      "metadata": {
        "id": "l7tHmff94l85"
      },
      "source": [
        "# 최종 완성된 필터링용 와인 데이터 저장\n",
        "wines.to_csv('wines_final2.csv', encoding='utf-8', index=False)"
      ],
      "execution_count": 38,
      "outputs": []
    },
    {
      "cell_type": "markdown",
      "metadata": {
        "id": "6QViaSZokWIs"
      },
      "source": [
        "# 3) 조건에 따른 필터링"
      ]
    },
    {
      "cell_type": "code",
      "metadata": {
        "id": "KucxSJRzVyFA"
      },
      "source": [
        "price = '5~6만원대'\n",
        "rate = 3\n",
        "food = '해산물'\n",
        "celeb = 'no'"
      ],
      "execution_count": 39,
      "outputs": []
    },
    {
      "cell_type": "code",
      "metadata": {
        "id": "67s067cYVvMn"
      },
      "source": [
        "def MyWines(price, rate, food, celeb):\n",
        "  wines = pd.read_csv(\"wines_final2.csv\")\n",
        "  mask1 = (wines.Rating >= rate) & (wines.Price2 == price)\n",
        "  df_mywines1 = wines.loc[mask1,:]\n",
        "  mask2 =  (df_mywines1.Celeb == celeb) \n",
        "  df_mywines2 = df_mywines1.loc[mask2,:]\n",
        "  if food == \"해산물\":\n",
        "    mask3 = (df_mywines2.Type == 'White') | (df_mywines2.Type == 'Rose')\n",
        "  elif food == \"식전주\":\n",
        "    mask3 = (df_mywines2.Type == 'White')\n",
        "  elif food == \"과일\":\n",
        "    mask3 = (df_mywines2.Type == 'Sparkling') \n",
        "  elif food == \"육류\":\n",
        "    mask3 = (df_mywines2.Type == 'Red') \n",
        "  elif food == \"기타\":\n",
        "    mask3 = (df_mywines2.Type == 'White') | (df_mywines2.Type == 'Rose') | (df_mywines2.Type == 'Red') | (df_mywines2.Type == 'Sparkling') \n",
        "  df_mywines3 = df_mywines2.loc[mask3,:]\n",
        "  df_mywines3.sort_values(by='Price(\\)')\n",
        "  mywine5 = df_mywines3[:5]\n",
        "  mywine5 = mywine5[['Name','Country','Rating','Price(\\)','Type']]\n",
        "  mywine5 = mywine5.sort_values(by='Price(\\)',ignore_index=True)\n",
        "  out = \"[당신을 위한 와인 Top]\\n\"\n",
        "  for i in range(len(mywine5)):\n",
        "    out += str(i+1)+\". [{}]{} ({}): 평점은 {}점, 가격 {}만원입니다.\\n\".format(mywine5['Type'][i],mywine5['Name'][i],mywine5['Country'][i],mywine5['Rating'][i],mywine5['Price(\\)'][i])\n",
        "  return out"
      ],
      "execution_count": 40,
      "outputs": []
    },
    {
      "cell_type": "code",
      "metadata": {
        "colab": {
          "base_uri": "https://localhost:8080/"
        },
        "id": "T7oX-ep-WSpd",
        "outputId": "eb957c4d-0e9e-4653-8b6e-fe3493825102"
      },
      "source": [
        "price = '5~6만원대'\n",
        "rate = 3\n",
        "food = '해산물'\n",
        "celeb = 'no'\n",
        "a = MyWines(price, rate, food, celeb)\n",
        "print(a)"
      ],
      "execution_count": 41,
      "outputs": [
        {
          "output_type": "stream",
          "name": "stdout",
          "text": [
            "[당신을 위한 와인 Top]\n",
            "1. [White]Höllberg Riesling GG 2017 (Germany): 평점은 4.0점, 가격 5.07만원입니다.\n",
            "2. [White]Meursault Blanc 2017 (France): 평점은 3.8점, 가격 5.22만원입니다.\n",
            "3. [White]Riesling 'Le Gallais' Wiltinger Braune Kupp Kabinett 2018 (Germany): 평점은 4.3점, 가격 5.26만원입니다.\n",
            "4. [White]Grüner Veltliner Lamm Reserve 2017 (Austria): 평점은 4.1점, 가격 5.94만원입니다.\n",
            "5. [White]Ronco Broilo 2010 (Italy): 평점은 4.3점, 가격 6.06만원입니다.\n",
            "\n"
          ]
        }
      ]
    }
  ]
}